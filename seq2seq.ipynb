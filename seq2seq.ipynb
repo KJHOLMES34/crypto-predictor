{
 "cells": [
  {
   "cell_type": "code",
   "execution_count": 5,
   "metadata": {},
   "outputs": [],
   "source": [
    "%matplotlib notebook\n",
    "import json\n",
    "import numpy as np\n",
    "import os\n",
    "import pandas as pd\n",
    "import matplotlib.pyplot as plt\n",
    "from keras.models import Sequential\n",
    "from keras.layers import Dense, Dropout, Activation, Flatten,Reshape\n",
    "from keras.layers import CuDNNLSTM, LSTM, LeakyReLU\n",
    "from keras.layers import TimeDistributed\n",
    "from keras.layers import RepeatVector\n",
    "import dataloader"
   ]
  },
  {
   "cell_type": "code",
   "execution_count": 12,
   "metadata": {},
   "outputs": [
    {
     "name": "stdout",
     "output_type": "stream",
     "text": [
      "(131, 1728)\n",
      "ci 864\n",
      "B shape (131, 1728, 20)\n",
      "864 20\n"
     ]
    }
   ],
   "source": [
    "input_seq_length = 864\n",
    "output_seq_length = 24\n",
    "X, Y = dataloader.gen_data(input_seq_length, output_seq_length)\n",
    "step_size = X.shape[1]\n",
    "units = 80\n",
    "second_units = 30\n",
    "batch_size = 64\n",
    "nb_features = X.shape[2]\n",
    "epochs = 5\n",
    "\n",
    "print(step_size, nb_features)"
   ]
  },
  {
   "cell_type": "code",
   "execution_count": 11,
   "metadata": {},
   "outputs": [
    {
     "name": "stdout",
     "output_type": "stream",
     "text": [
      "WARNING:tensorflow:From c:\\users\\deyan\\tf-workspace\\env\\lib\\site-packages\\tensorflow\\contrib\\learn\\python\\learn\\datasets\\base.py:198: retry (from tensorflow.contrib.learn.python.learn.datasets.base) is deprecated and will be removed in a future version.\n",
      "Instructions for updating:\n",
      "Use the retry module or similar alternatives.\n",
      "_________________________________________________________________\n",
      "Layer (type)                 Output Shape              Param #   \n",
      "=================================================================\n",
      "cu_dnnlstm_1 (CuDNNLSTM)     (None, 864, 80)           32640     \n",
      "_________________________________________________________________\n",
      "dropout_1 (Dropout)          (None, 864, 80)           0         \n",
      "_________________________________________________________________\n",
      "cu_dnnlstm_2 (CuDNNLSTM)     (None, 30)                13440     \n",
      "_________________________________________________________________\n",
      "dropout_2 (Dropout)          (None, 30)                0         \n",
      "_________________________________________________________________\n",
      "dense_4 (Dense)              (None, 24)                744       \n",
      "_________________________________________________________________\n",
      "leaky_re_lu_1 (LeakyReLU)    (None, 24)                0         \n",
      "=================================================================\n",
      "Total params: 46,824\n",
      "Trainable params: 46,824\n",
      "Non-trainable params: 0\n",
      "_________________________________________________________________\n"
     ]
    }
   ],
   "source": [
    "model = Sequential()\n",
    "model.add(CuDNNLSTM(units=units, input_shape=(step_size,nb_features),return_sequences=True))\n",
    "model.add(Dropout(0.5))\n",
    "model.add(CuDNNLSTM(units=second_units, return_sequences=False))\n",
    "model.add(Dropout(0.4))\n",
    "model.add(Dense(output_seq_length))\n",
    "model.add(LeakyReLU())\n",
    "model.compile(loss='mse', optimizer='adam')\n",
    "model.summary()"
   ]
  },
  {
   "cell_type": "code",
   "execution_count": 10,
   "metadata": {},
   "outputs": [
    {
     "name": "stdout",
     "output_type": "stream",
     "text": [
      "_________________________________________________________________\n",
      "Layer (type)                 Output Shape              Param #   \n",
      "=================================================================\n",
      "lstm_10 (LSTM)               (64, 80)                  32320     \n",
      "_________________________________________________________________\n",
      "repeat_vector_4 (RepeatVecto (64, 24, 80)              0         \n",
      "_________________________________________________________________\n",
      "lstm_11 (LSTM)               (64, 24, 30)              13320     \n",
      "_________________________________________________________________\n",
      "time_distributed_2 (TimeDist (64, 24, 20)              620       \n",
      "=================================================================\n",
      "Total params: 46,260\n",
      "Trainable params: 46,260\n",
      "Non-trainable params: 0\n",
      "_________________________________________________________________\n"
     ]
    }
   ],
   "source": [
    "model = Sequential()\n",
    "model.add(LSTM(units=units, batch_input_shape=(batch_size, step_size, nb_features), stateful=True))\n",
    "model.add(RepeatVector(output_seq_length))\n",
    "model.add(LSTM(units=second_units, return_sequences=True, stateful=True))\n",
    "model.add(TimeDistributed(Dense(nb_features, activation='softmax')))\n",
    "model.compile(loss='categorical_crossentropy', optimizer='adam', metrics=['acc'])\n",
    "model.summary()"
   ]
  },
  {
   "cell_type": "code",
   "execution_count": 6,
   "metadata": {},
   "outputs": [
    {
     "name": "stdout",
     "output_type": "stream",
     "text": [
      "__________________________________________________________________________________________________\n",
      "Layer (type)                    Output Shape         Param #     Connected to                     \n",
      "==================================================================================================\n",
      "input_109 (InputLayer)          (16, 7, 5)           0                                            \n",
      "__________________________________________________________________________________________________\n",
      "time_distributed_1 (TimeDistrib (16, 7, 10)          60          input_109[0][0]                  \n",
      "__________________________________________________________________________________________________\n",
      "private__optional_input_place_h (2,)                 0                                            \n",
      "__________________________________________________________________________________________________\n",
      "private__optional_input_place_h (2,)                 0                                            \n",
      "__________________________________________________________________________________________________\n",
      "private__optional_input_place_h (2,)                 0                                            \n",
      "__________________________________________________________________________________________________\n",
      "recurrent_sequential_3 (Recurre [(16, 10), (16, 10), 3360        time_distributed_1[0][0]         \n",
      "                                                                 private__optional_input_place_hol\n",
      "                                                                 private__optional_input_place_hol\n",
      "                                                                 private__optional_input_place_hol\n",
      "__________________________________________________________________________________________________\n",
      "dense_56 (Dense)                (16, 20)             220         recurrent_sequential_3[0][0]     \n",
      "__________________________________________________________________________________________________\n",
      "recurrent_sequential_4 (Recurre (16, 8, 20)          5840        dense_56[0][0]                   \n",
      "                                                                 recurrent_sequential_3[0][1]     \n",
      "                                                                 recurrent_sequential_3[0][2]     \n",
      "                                                                 dense_56[0][0]                   \n",
      "==================================================================================================\n",
      "Total params: 9,480\n",
      "Trainable params: 9,480\n",
      "Non-trainable params: 0\n",
      "__________________________________________________________________________________________________\n"
     ]
    }
   ],
   "source": []
  }
 ],
 "metadata": {
  "kernelspec": {
   "display_name": "Python 3",
   "language": "python",
   "name": "python3"
  },
  "language_info": {
   "codemirror_mode": {
    "name": "ipython",
    "version": 3
   },
   "file_extension": ".py",
   "mimetype": "text/x-python",
   "name": "python",
   "nbconvert_exporter": "python",
   "pygments_lexer": "ipython3",
   "version": "3.6.3"
  }
 },
 "nbformat": 4,
 "nbformat_minor": 2
}
