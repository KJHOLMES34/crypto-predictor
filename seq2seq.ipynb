{
 "cells": [
  {
   "cell_type": "code",
   "execution_count": 2,
   "metadata": {},
   "outputs": [],
   "source": [
    "%matplotlib notebook\n",
    "import json\n",
    "import numpy as np\n",
    "import os\n",
    "import pandas as pd\n",
    "import matplotlib.pyplot as plt\n",
    "import seq2seq\n",
    "from seq2seq.models import Seq2Seq\n",
    "from seq2seq.models import SimpleSeq2Seq\n",
    "from seq2seq.models import AttentionSeq2Seq\n"
   ]
  },
  {
   "cell_type": "code",
   "execution_count": 7,
   "metadata": {},
   "outputs": [
    {
     "name": "stdout",
     "output_type": "stream",
     "text": [
      "__________________________________________________________________________________________________\n",
      "Layer (type)                    Output Shape         Param #     Connected to                     \n",
      "==================================================================================================\n",
      "input_176 (InputLayer)          (16, 7, 5)           0                                            \n",
      "__________________________________________________________________________________________________\n",
      "time_distributed_2 (TimeDistrib (16, 7, 500)         3000        input_176[0][0]                  \n",
      "__________________________________________________________________________________________________\n",
      "private__optional_input_place_h (2,)                 0                                            \n",
      "__________________________________________________________________________________________________\n",
      "private__optional_input_place_h (2,)                 0                                            \n",
      "__________________________________________________________________________________________________\n",
      "private__optional_input_place_h (2,)                 0                                            \n",
      "__________________________________________________________________________________________________\n",
      "recurrent_sequential_5 (Recurre [(16, 500), (16, 500 8008000     time_distributed_2[0][0]         \n",
      "                                                                 private__optional_input_place_hol\n",
      "                                                                 private__optional_input_place_hol\n",
      "                                                                 private__optional_input_place_hol\n",
      "__________________________________________________________________________________________________\n",
      "dense_103 (Dense)               (16, 300)            150300      recurrent_sequential_5[0][0]     \n",
      "__________________________________________________________________________________________________\n",
      "recurrent_sequential_6 (Recurre (16, 8, 300)         7009200     dense_103[0][0]                  \n",
      "                                                                 recurrent_sequential_5[0][1]     \n",
      "                                                                 recurrent_sequential_5[0][2]     \n",
      "                                                                 dense_103[0][0]                  \n",
      "==================================================================================================\n",
      "Total params: 15,170,500\n",
      "Trainable params: 15,170,500\n",
      "Non-trainable params: 0\n",
      "__________________________________________________________________________________________________\n"
     ]
    }
   ],
   "source": [
    "model = Seq2Seq(batch_input_shape=(16, 7, 5), hidden_dim=500, output_length=8, output_dim=300, depth=4)\n",
    "model.compile(loss='mse', optimizer='rmsprop')\n",
    "model.summary()"
   ]
  },
  {
   "cell_type": "code",
   "execution_count": 6,
   "metadata": {},
   "outputs": [
    {
     "name": "stdout",
     "output_type": "stream",
     "text": [
      "__________________________________________________________________________________________________\n",
      "Layer (type)                    Output Shape         Param #     Connected to                     \n",
      "==================================================================================================\n",
      "input_109 (InputLayer)          (16, 7, 5)           0                                            \n",
      "__________________________________________________________________________________________________\n",
      "time_distributed_1 (TimeDistrib (16, 7, 10)          60          input_109[0][0]                  \n",
      "__________________________________________________________________________________________________\n",
      "private__optional_input_place_h (2,)                 0                                            \n",
      "__________________________________________________________________________________________________\n",
      "private__optional_input_place_h (2,)                 0                                            \n",
      "__________________________________________________________________________________________________\n",
      "private__optional_input_place_h (2,)                 0                                            \n",
      "__________________________________________________________________________________________________\n",
      "recurrent_sequential_3 (Recurre [(16, 10), (16, 10), 3360        time_distributed_1[0][0]         \n",
      "                                                                 private__optional_input_place_hol\n",
      "                                                                 private__optional_input_place_hol\n",
      "                                                                 private__optional_input_place_hol\n",
      "__________________________________________________________________________________________________\n",
      "dense_56 (Dense)                (16, 20)             220         recurrent_sequential_3[0][0]     \n",
      "__________________________________________________________________________________________________\n",
      "recurrent_sequential_4 (Recurre (16, 8, 20)          5840        dense_56[0][0]                   \n",
      "                                                                 recurrent_sequential_3[0][1]     \n",
      "                                                                 recurrent_sequential_3[0][2]     \n",
      "                                                                 dense_56[0][0]                   \n",
      "==================================================================================================\n",
      "Total params: 9,480\n",
      "Trainable params: 9,480\n",
      "Non-trainable params: 0\n",
      "__________________________________________________________________________________________________\n"
     ]
    }
   ],
   "source": []
  }
 ],
 "metadata": {
  "kernelspec": {
   "display_name": "Python 3",
   "language": "python",
   "name": "python3"
  },
  "language_info": {
   "codemirror_mode": {
    "name": "ipython",
    "version": 3
   },
   "file_extension": ".py",
   "mimetype": "text/x-python",
   "name": "python",
   "nbconvert_exporter": "python",
   "pygments_lexer": "ipython3",
   "version": "3.6.3"
  }
 },
 "nbformat": 4,
 "nbformat_minor": 2
}
